{
  "nbformat": 4,
  "nbformat_minor": 0,
  "metadata": {
    "colab": {
      "provenance": [],
      "authorship_tag": "ABX9TyOl8d3Qqmgt5MGLO8bMiCq4",
      "include_colab_link": true
    },
    "kernelspec": {
      "name": "python3",
      "display_name": "Python 3"
    },
    "language_info": {
      "name": "python"
    }
  },
  "cells": [
    {
      "cell_type": "markdown",
      "metadata": {
        "id": "view-in-github",
        "colab_type": "text"
      },
      "source": [
        "<a href=\"https://colab.research.google.com/github/sahilyousaf2/9-projects-in-python/blob/main/mad_libs_game.ipynb\" target=\"_parent\"><img src=\"https://colab.research.google.com/assets/colab-badge.svg\" alt=\"Open In Colab\"/></a>"
      ]
    },
    {
      "cell_type": "markdown",
      "source": [
        "# **Mad_Libs_game**"
      ],
      "metadata": {
        "id": "1kCpWXFvAJ-L"
      }
    },
    {
      "cell_type": "code",
      "source": [
        "name = input(\"Enter Your Name: \");\n",
        "progaming_language = input(\"Enter a programing language (e.g: python, typescript, c# ): \")\n",
        "mentor = input(\"Enter the mentor name: \")\n",
        "\n",
        "print(\"\\n Here is my little story based on mad libs game!\")\n",
        "print(f\"one upon a time, there was a person named {name}.\")\n",
        "print (f\"{name} was very curious and always want to learn new things\")\n",
        "print (f\"One day, he decided to learn ({progaming_language} language at governor house karachi!\")\n",
        "print(f\"Luckily {name} found a great mentor name as {mentor} who was an expert in {progaming_language}.\")"
      ],
      "metadata": {
        "colab": {
          "base_uri": "https://localhost:8080/"
        },
        "id": "n1nMoPUKAPVG",
        "outputId": "5f83ad15-4ec8-4c4e-caa0-458f50b8e21c"
      },
      "execution_count": 2,
      "outputs": [
        {
          "output_type": "stream",
          "name": "stdout",
          "text": [
            "Enter Your Name: sheza\n",
            "Enter a programing language (e.g: python, typescript, c# ): typescript\n",
            "Enter the mentor name: sahil \n",
            "\n",
            " Here is my little story based on mad libs game!\n",
            "one upon a time, there was a person named sheza.\n",
            " sheza was very curious and always want to learn new things\n",
            "One day, he decided to learn (typescript language at governor housealaligir !\n",
            "Luckily sheza found a great mentor name as sahil  who was an expert in alaligir typescript.\n"
          ]
        }
      ]
    }
  ]
}