{
  "nbformat": 4,
  "nbformat_minor": 0,
  "metadata": {
    "colab": {
      "provenance": [],
      "authorship_tag": "ABX9TyNeYhxACBfwf84VDZnt7hyc",
      "include_colab_link": true
    },
    "kernelspec": {
      "name": "python3",
      "display_name": "Python 3"
    },
    "language_info": {
      "name": "python"
    }
  },
  "cells": [
    {
      "cell_type": "markdown",
      "metadata": {
        "id": "view-in-github",
        "colab_type": "text"
      },
      "source": [
        "<a href=\"https://colab.research.google.com/github/sahilyousaf2/9-projects-in-python/blob/main/guess_the_number_computer.ipynb\" target=\"_parent\"><img src=\"https://colab.research.google.com/assets/colab-badge.svg\" alt=\"Open In Colab\"/></a>"
      ]
    },
    {
      "cell_type": "markdown",
      "source": [
        "# **guess_the_number_computer**"
      ],
      "metadata": {
        "id": "ukTfFxIUF92K"
      }
    },
    {
      "cell_type": "code",
      "source": [
        "import random\n",
        "\n",
        "print(\"\\n Welcome to Number Guessing Game! \\n you got 3 chance to guess the number between 10 to 50, Let's start the game!\")\n",
        "\n",
        "random_number = random.randrange(10, 50)\n",
        "\n",
        "chances = 3\n",
        "\n",
        "guessCounter = 0\n",
        "\n",
        "while guessCounter < chances:\n",
        "    guessCounter += 1\n",
        "\n",
        "    myguess = int(input(\"Enter your guess number: \"))\n",
        "\n",
        "    if myguess == random_number:\n",
        "        print(f\"The number is {random_number} and you found it right!! in the {guessCounter} attempt\")\n",
        "        break\n",
        "\n",
        "    elif guessCounter >= chances and myguess != random_number:\n",
        "        print(f\"Sorry, the number is {random_number} better luck next time!\")\n",
        "\n",
        "    elif myguess > random_number:\n",
        "        print(\"Your guess is very high, try again\")\n",
        "\n",
        "    elif myguess < random_number:\n",
        "        print(\"Your guess is very low, try again\")\n",
        ""
      ],
      "metadata": {
        "colab": {
          "base_uri": "https://localhost:8080/"
        },
        "id": "ANWpF_7YGAFT",
        "outputId": "4aba4772-ed67-4e9a-9a50-e17fb03b04ba"
      },
      "execution_count": 1,
      "outputs": [
        {
          "output_type": "stream",
          "name": "stdout",
          "text": [
            "\n",
            " Welcome to Number Guessing Game! \n",
            " you got 3 chance to guess the number between 10 to 50, Let's start the game!\n",
            "Enter your guess number: 56\n",
            "Your guess is very high, try again\n",
            "Enter your guess number: 55\n",
            "Your guess is very high, try again\n",
            "Enter your guess number: 23\n",
            "Sorry, the number is 22 better luck next time!\n"
          ]
        }
      ]
    }
  ]
}