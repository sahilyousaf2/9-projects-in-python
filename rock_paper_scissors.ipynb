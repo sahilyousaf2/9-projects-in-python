{
  "nbformat": 4,
  "nbformat_minor": 0,
  "metadata": {
    "colab": {
      "provenance": [],
      "authorship_tag": "ABX9TyOVC89q4Cfy+ruCRmeY9tMx",
      "include_colab_link": true
    },
    "kernelspec": {
      "name": "python3",
      "display_name": "Python 3"
    },
    "language_info": {
      "name": "python"
    }
  },
  "cells": [
    {
      "cell_type": "markdown",
      "metadata": {
        "id": "view-in-github",
        "colab_type": "text"
      },
      "source": [
        "<a href=\"https://colab.research.google.com/github/sahilyousaf2/9-projects-in-python/blob/main/rock_paper_scissors.ipynb\" target=\"_parent\"><img src=\"https://colab.research.google.com/assets/colab-badge.svg\" alt=\"Open In Colab\"/></a>"
      ]
    },
    {
      "cell_type": "markdown",
      "source": [
        "# **rock_paper_scissors**"
      ],
      "metadata": {
        "id": "RLvgB0ufI8-P"
      }
    },
    {
      "cell_type": "code",
      "source": [
        "import random\n",
        "\n",
        "print(\"\\n let's play rock, paper, scissors Game \\n \")\n",
        "\n",
        "# game choices\n",
        "choices = [\"rock\", \"paper\", \"scissors\"]\n",
        "\n",
        "while True:\n",
        "    playerChoice = input(\"Enter rock, paper, scissors: \").lower()\n",
        "\n",
        "    # Validate input\n",
        "    if playerChoice not in choices:\n",
        "        print(\"Invalid choice. Please try again.\")\n",
        "        continue\n",
        "\n",
        "    computerChoice = random.choice(choices)\n",
        "    print(f\"Computer chose: {computerChoice}\")\n",
        "\n",
        "    if playerChoice == computerChoice:\n",
        "        print(\"It's a tie!\")\n",
        "    elif (playerChoice == \"rock\" and computerChoice == \"scissors\") or \\\n",
        "         (playerChoice == \"paper\" and computerChoice == \"rock\") or \\\n",
        "         (playerChoice == \"scissors\" and computerChoice == \"paper\"):\n",
        "        print(f\"Player wins! {playerChoice} beats {computerChoice}\")\n",
        "    else:\n",
        "        print(f\"Computer wins! {computerChoice} beats {playerChoice}\")\n",
        "\n",
        "    # Ask if player wants to play again\n",
        "    play_again = input(\"Play again? (yes/no): \").lower()\n",
        "    if play_again != 'yes':\n",
        "        break\n",
        "\n",
        "print(\"Thanks for playing!\")"
      ],
      "metadata": {
        "colab": {
          "base_uri": "https://localhost:8080/"
        },
        "id": "AKfCOPgOLE0p",
        "outputId": "097691dd-8637-48b5-dd77-bc2bc23661e3"
      },
      "execution_count": 2,
      "outputs": [
        {
          "output_type": "stream",
          "name": "stdout",
          "text": [
            "\n",
            " let's play rock, paper, scissors Game \n",
            " \n",
            "Enter rock, paper, scissors: roxk\n",
            "Invalid choice. Please try again.\n",
            "Enter rock, paper, scissors: rock\n",
            "Computer chose: rock\n",
            "It's a tie!\n",
            "Play again? (yes/no): no\n",
            "Thanks for playing!\n"
          ]
        }
      ]
    }
  ]
}