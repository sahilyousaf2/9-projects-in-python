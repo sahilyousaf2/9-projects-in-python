{
  "nbformat": 4,
  "nbformat_minor": 0,
  "metadata": {
    "colab": {
      "provenance": [],
      "authorship_tag": "ABX9TyNiCicEg/8YSO+hn7vBL18G",
      "include_colab_link": true
    },
    "kernelspec": {
      "name": "python3",
      "display_name": "Python 3"
    },
    "language_info": {
      "name": "python"
    }
  },
  "cells": [
    {
      "cell_type": "markdown",
      "metadata": {
        "id": "view-in-github",
        "colab_type": "text"
      },
      "source": [
        "<a href=\"https://colab.research.google.com/github/sahilyousaf2/9-projects-in-python/blob/main/countdown_timer.ipynb\" target=\"_parent\"><img src=\"https://colab.research.google.com/assets/colab-badge.svg\" alt=\"Open In Colab\"/></a>"
      ]
    },
    {
      "cell_type": "markdown",
      "source": [
        "# **countdown_timer**"
      ],
      "metadata": {
        "id": "i_JIWbFgN7Fx"
      }
    },
    {
      "cell_type": "code",
      "source": [
        "import time\n",
        "\n",
        "print(\"Here's the countdown timer \\n \")\n",
        "\n",
        "def countdown_timer(seconds):\n",
        "  while seconds > 0:\n",
        "      hours, remainder = divmod(seconds, 3600) # Calculated hours\n",
        "      mins, secs = divmod(remainder, 60) # Calculated minutes and seconds\n",
        "      time_format = '{:02d}:{:02d}:{:02d}'.format(hours, mins, secs)\n",
        "      print(time_format, end='\\r')\n",
        "      time.sleep(1) #delay of a second\n",
        "      seconds -= 1\n",
        "\n",
        "  print(\"00:00:00 \\n Time's Up\")\n",
        "\n",
        "# User input\n",
        "\n",
        "total_time = int(input(\"Enter your time in seconds for Countdown: \"))\n",
        "print(\"HH:MM:SS\")\n",
        "countdown_timer(total_time)"
      ],
      "metadata": {
        "colab": {
          "base_uri": "https://localhost:8080/"
        },
        "id": "_8MOVtI_N9Zw",
        "outputId": "e60e1cb6-f9be-4978-e74e-8f8ad47c6d78"
      },
      "execution_count": 1,
      "outputs": [
        {
          "output_type": "stream",
          "name": "stdout",
          "text": [
            "Here's the countdown timer \n",
            " \n",
            "Enter your time in seconds for Countdown: 5\n",
            "HH:MM:SS\n",
            "00:00:00 \n",
            " Time's Up\n"
          ]
        }
      ]
    }
  ]
}