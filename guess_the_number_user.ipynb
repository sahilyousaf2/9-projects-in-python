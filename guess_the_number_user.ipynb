{
  "nbformat": 4,
  "nbformat_minor": 0,
  "metadata": {
    "colab": {
      "provenance": [],
      "authorship_tag": "ABX9TyNXN5YW3KnsKDuskHP9M7SZ",
      "include_colab_link": true
    },
    "kernelspec": {
      "name": "python3",
      "display_name": "Python 3"
    },
    "language_info": {
      "name": "python"
    }
  },
  "cells": [
    {
      "cell_type": "markdown",
      "metadata": {
        "id": "view-in-github",
        "colab_type": "text"
      },
      "source": [
        "<a href=\"https://colab.research.google.com/github/sahilyousaf2/9-projects-in-python/blob/main/guess_the_number_user.ipynb\" target=\"_parent\"><img src=\"https://colab.research.google.com/assets/colab-badge.svg\" alt=\"Open In Colab\"/></a>"
      ]
    },
    {
      "cell_type": "markdown",
      "source": [],
      "metadata": {
        "id": "Zax6s5FcHglM"
      }
    },
    {
      "cell_type": "markdown",
      "source": [
        "# **guess_the_number_user**"
      ],
      "metadata": {
        "id": "7CEvhjAXG5Up"
      }
    },
    {
      "cell_type": "code",
      "source": [
        "import random\n",
        "\n",
        "print(\" \\n Welcome to Guess the Number(User) \\n\")\n",
        "\n",
        "number = random.randrange(50, 100)\n",
        "\n",
        "# loop\n",
        "print(\"Guess the number between 50 to 100\")\n",
        "\n",
        "\n",
        "while True:\n",
        "    guessNumber = int(input(\"Enter a guess number: \"))\n",
        "\n",
        "    if guessNumber > number:\n",
        "        print(\"To high number!\")\n",
        "    elif guessNumber < number:\n",
        "        print(\"To low number!\")\n",
        "    else:\n",
        "        print(\"Congrats!🎉 , You Got It Right\")\n",
        "        break"
      ],
      "metadata": {
        "colab": {
          "base_uri": "https://localhost:8080/"
        },
        "id": "pBze63LXG8Vn",
        "outputId": "2c53bac3-9d83-44e1-f328-4c2b3e69e0fd"
      },
      "execution_count": null,
      "outputs": [
        {
          "output_type": "stream",
          "name": "stdout",
          "text": [
            " \n",
            " Welcome to Guess the Number(User) \n",
            "\n",
            "Guess the number between 50 to 100\n",
            "Enter a guess number: 55\n",
            "To low number!\n",
            "Enter a guess number: 69\n",
            "To low number!\n",
            "Enter a guess number: 84\n",
            "To low number!\n"
          ]
        }
      ]
    }
  ]
}